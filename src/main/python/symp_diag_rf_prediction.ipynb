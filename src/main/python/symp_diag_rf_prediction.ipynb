{
 "cells": [
  {
   "cell_type": "code",
   "execution_count": 1,
   "id": "d1bcec1f",
   "metadata": {},
   "outputs": [],
   "source": [
    "import pandas as pd\n",
    "import numpy as np\n",
    "\n",
    "from sklearn.ensemble import RandomForestClassifier\n",
    "from sklearn.preprocessing import LabelEncoder\n",
    "\n",
    "\n",
    "# чтение таблицы симптомов и болезней\n",
    "df = pd.read_excel('Симпт_бол_врач.xlsx', sheet_name='Симпт_бол_врачи', dtype=object)\n",
    "df.columns = ['symp', 'diag', 'prof']\n",
    "\n",
    "# исправление кодировки в поле symp\n",
    "symp_lst = df['symp'].to_list()\n",
    "symp_lst = [x.split(' ') for x in symp_lst]\n",
    "symp_lst = [[x.strip() for x in lst] for lst in symp_lst]\n",
    "df['symp'] = [' '.join(elem) for elem in symp_lst]\n",
    "\n",
    "print(df.shape)\n",
    "df.head(2)"
   ]
  },
  {
   "cell_type": "markdown",
   "id": "5b6b9f23",
   "metadata": {},
   "source": [
    "### Кодирование числовыми значениями + словари соотношений"
   ]
  },
  {
   "cell_type": "code",
   "execution_count": 10,
   "id": "5491b0f2",
   "metadata": {},
   "outputs": [],
   "source": [
    "labelencoder = LabelEncoder()\n",
    "df['diag_n'] = labelencoder.fit_transform(df['diag'].values)\n",
    "df['symp_n'] = df['symp'].map({value: n for value, n in zip(df['symp'].unique(), range(df['symp'].nunique()))})\n",
    "\n",
    "symp_codes = {k: v for k, v in zip(df['symp'], df['symp_n'])} # симптомы (текст: код)\n",
    "diag_codes = {k: v for k, v in zip(df['diag_n'], df['diag'])} # диагнозы (код: текст)"
   ]
  },
  {
   "cell_type": "markdown",
   "id": "2c6c5cd9",
   "metadata": {},
   "source": [
    "### Создание бинарной матрицы для симптомов"
   ]
  },
  {
   "cell_type": "code",
   "execution_count": 11,
   "id": "acb12912",
   "metadata": {},
   "outputs": [],
   "source": [
    "symp_df = df.groupby('diag_n')['symp_n'].apply(set).reset_index()\n",
    "symp_df = symp_df.sort_values('diag_n').reset_index(drop=True)\n",
    "\n",
    "symp_df[df['symp_n'].unique()] = 0\n",
    "\n",
    "for index, row in symp_df.iterrows():\n",
    "    for value in row['symp_n']:\n",
    "        symp_df.loc[index, value] = 1"
   ]
  },
  {
   "cell_type": "markdown",
   "id": "8d624854",
   "metadata": {},
   "source": [
    "### Обучение"
   ]
  },
  {
   "cell_type": "code",
   "execution_count": 12,
   "id": "90c70671",
   "metadata": {},
   "outputs": [
    {
     "data": {
      "text/plain": [
       "RandomForestClassifier()"
      ]
     },
     "execution_count": 12,
     "metadata": {},
     "output_type": "execute_result"
    }
   ],
   "source": [
    "X = symp_df[list(range(df['symp'].nunique()))]\n",
    "y = symp_df['diag_n']\n",
    "\n",
    "model = RandomForestClassifier()\n",
    "model.fit(X, y)"
   ]
  },
  {
   "cell_type": "markdown",
   "id": "980feffe",
   "metadata": {},
   "source": [
    "### Демонстрация"
   ]
  },
  {
   "cell_type": "code",
   "execution_count": 13,
   "id": "cd3c8b1d",
   "metadata": {},
   "outputs": [],
   "source": [
    "# словари в помощь\n",
    "# symp_codes\n",
    "# diag_codes"
   ]
  },
  {
   "cell_type": "code",
   "execution_count": 16,
   "id": "4a6cd434",
   "metadata": {},
   "outputs": [],
   "source": [
    "# РУЧНОЙ ВВОД\n",
    "# ввести список симптомов из файла Симпт_бол_врач.xlsx\n",
    "symptoms_str = ['Боль в ягодице', \n",
    "                'Озноб', \n",
    "                'Боль в яичнике']"
   ]
  },
  {
   "cell_type": "code",
   "execution_count": 21,
   "id": "e5e52d3f",
   "metadata": {},
   "outputs": [],
   "source": [
    "# создание бинарного вектора для списка симптомов\n",
    "symptoms = [symp_codes[s] for s in symptoms_str]\n",
    "symptoms_array = list(np.zeros(df['symp'].nunique()))\n",
    "\n",
    "for s in symptoms:\n",
    "    symptoms_array.insert(s, 1)\n",
    "    symptoms_array.pop()\n",
    "    \n",
    "symptoms_array = np.array(symptoms_array).reshape(1,-1)"
   ]
  },
  {
   "cell_type": "code",
   "execution_count": 23,
   "id": "6214b47a",
   "metadata": {},
   "outputs": [
    {
     "data": {
      "text/html": [
       "<div>\n",
       "<style scoped>\n",
       "    .dataframe tbody tr th:only-of-type {\n",
       "        vertical-align: middle;\n",
       "    }\n",
       "\n",
       "    .dataframe tbody tr th {\n",
       "        vertical-align: top;\n",
       "    }\n",
       "\n",
       "    .dataframe thead th {\n",
       "        text-align: right;\n",
       "    }\n",
       "</style>\n",
       "<table border=\"1\" class=\"dataframe\">\n",
       "  <thead>\n",
       "    <tr style=\"text-align: right;\">\n",
       "      <th></th>\n",
       "      <th>diag</th>\n",
       "      <th>prob</th>\n",
       "    </tr>\n",
       "  </thead>\n",
       "  <tbody>\n",
       "    <tr>\n",
       "      <th>16</th>\n",
       "      <td>Поликистоз яичников</td>\n",
       "      <td>0.133000</td>\n",
       "    </tr>\n",
       "    <tr>\n",
       "      <th>12</th>\n",
       "      <td>Опухоли яичников</td>\n",
       "      <td>0.127000</td>\n",
       "    </tr>\n",
       "    <tr>\n",
       "      <th>13</th>\n",
       "      <td>Остеохондроз поясничный</td>\n",
       "      <td>0.111333</td>\n",
       "    </tr>\n",
       "    <tr>\n",
       "      <th>0</th>\n",
       "      <td>Абсцесс мягких тканей</td>\n",
       "      <td>0.091583</td>\n",
       "    </tr>\n",
       "    <tr>\n",
       "      <th>17</th>\n",
       "      <td>Фурункул (чирей)</td>\n",
       "      <td>0.077083</td>\n",
       "    </tr>\n",
       "    <tr>\n",
       "      <th>11</th>\n",
       "      <td>Лимфогранулематоз</td>\n",
       "      <td>0.058310</td>\n",
       "    </tr>\n",
       "    <tr>\n",
       "      <th>10</th>\n",
       "      <td>Краснуха</td>\n",
       "      <td>0.055937</td>\n",
       "    </tr>\n",
       "    <tr>\n",
       "      <th>9</th>\n",
       "      <td>Коклюш</td>\n",
       "      <td>0.050730</td>\n",
       "    </tr>\n",
       "    <tr>\n",
       "      <th>2</th>\n",
       "      <td>Аллергия</td>\n",
       "      <td>0.049294</td>\n",
       "    </tr>\n",
       "    <tr>\n",
       "      <th>5</th>\n",
       "      <td>Вирусная инфекция</td>\n",
       "      <td>0.048480</td>\n",
       "    </tr>\n",
       "    <tr>\n",
       "      <th>7</th>\n",
       "      <td>Гемофильная инфекция</td>\n",
       "      <td>0.042135</td>\n",
       "    </tr>\n",
       "    <tr>\n",
       "      <th>8</th>\n",
       "      <td>Гипертонический криз</td>\n",
       "      <td>0.038980</td>\n",
       "    </tr>\n",
       "    <tr>\n",
       "      <th>6</th>\n",
       "      <td>Воспаление почек (нефрит)</td>\n",
       "      <td>0.036135</td>\n",
       "    </tr>\n",
       "    <tr>\n",
       "      <th>1</th>\n",
       "      <td>Аднексит (сальпингоофорит)</td>\n",
       "      <td>0.020000</td>\n",
       "    </tr>\n",
       "    <tr>\n",
       "      <th>4</th>\n",
       "      <td>Аппендицит</td>\n",
       "      <td>0.020000</td>\n",
       "    </tr>\n",
       "    <tr>\n",
       "      <th>15</th>\n",
       "      <td>Перекрут кисты яичника</td>\n",
       "      <td>0.020000</td>\n",
       "    </tr>\n",
       "    <tr>\n",
       "      <th>3</th>\n",
       "      <td>Апоплексия яичника</td>\n",
       "      <td>0.010000</td>\n",
       "    </tr>\n",
       "    <tr>\n",
       "      <th>14</th>\n",
       "      <td>Парапроктит</td>\n",
       "      <td>0.010000</td>\n",
       "    </tr>\n",
       "  </tbody>\n",
       "</table>\n",
       "</div>"
      ],
      "text/plain": [
       "                          diag      prob\n",
       "16         Поликистоз яичников  0.133000\n",
       "12            Опухоли яичников  0.127000\n",
       "13     Остеохондроз поясничный  0.111333\n",
       "0        Абсцесс мягких тканей  0.091583\n",
       "17            Фурункул (чирей)  0.077083\n",
       "11           Лимфогранулематоз  0.058310\n",
       "10                    Краснуха  0.055937\n",
       "9                       Коклюш  0.050730\n",
       "2                     Аллергия  0.049294\n",
       "5            Вирусная инфекция  0.048480\n",
       "7         Гемофильная инфекция  0.042135\n",
       "8         Гипертонический криз  0.038980\n",
       "6    Воспаление почек (нефрит)  0.036135\n",
       "1   Аднексит (сальпингоофорит)  0.020000\n",
       "4                   Аппендицит  0.020000\n",
       "15      Перекрут кисты яичника  0.020000\n",
       "3           Апоплексия яичника  0.010000\n",
       "14                 Парапроктит  0.010000"
      ]
     },
     "execution_count": 23,
     "metadata": {},
     "output_type": "execute_result"
    }
   ],
   "source": [
    "# результат предсказания: таблица диагнозов с вероятностями\n",
    "res = []\n",
    "for i, prob in enumerate(model.predict_proba(symptoms_array)[0]):\n",
    "    if prob != 0:\n",
    "        _ = [diag_codes[i], prob]\n",
    "        res.append(_)\n",
    "        \n",
    "pd.DataFrame(res, columns=['diag', 'prob']).sort_values('prob', ascending=False)"
   ]
  },
  {
   "cell_type": "code",
   "execution_count": null,
   "id": "698a5767",
   "metadata": {},
   "outputs": [],
   "source": []
  }
 ],
 "metadata": {
  "kernelspec": {
   "display_name": "Python 3",
   "language": "python",
   "name": "python3"
  },
  "language_info": {
   "codemirror_mode": {
    "name": "ipython",
    "version": 3
   },
   "file_extension": ".py",
   "mimetype": "text/x-python",
   "name": "python",
   "nbconvert_exporter": "python",
   "pygments_lexer": "ipython3",
   "version": "3.7.10"
  }
 },
 "nbformat": 4,
 "nbformat_minor": 5
}
